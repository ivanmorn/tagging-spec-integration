{
 "cells": [
  {
   "cell_type": "code",
   "execution_count": null,
   "metadata": {},
   "outputs": [],
   "source": [
    "import xlwings as xw\n",
    "\n",
    "## initiate the integrated spec\n",
    "spec_output = xw.Book('hk tagging specs.xlsx')\n",
    "output_list = spec_output.sheets['list']\n",
    "output_spec = spec_output.sheets['spec']\n",
    "\n",
    "def integrate_specs():\n",
    "    list_index = 1\n",
    "    max_index = output_list.range('A1').current_region.last_cell.row - 2\n",
    "    start_row = 3\n",
    "    ## clear existing values\n",
    "    output_spec.range('A3:H3').expand('down').clear()\n",
    "    while list_index < max_index + 1:\n",
    "        ## select input spec\n",
    "        spec_input = xw.Book(output_list.range('C'+str(list_index+2)).value + '.xlsx')\n",
    "        ## select input spec tab\n",
    "        spec_tab = spec_input.sheets['spec']\n",
    "        ## count input row\n",
    "        spec_row = spec_tab.range('A1').current_region.last_cell.row - 2\n",
    "        ## copy and paste value from input to output\n",
    "        output_spec.range('B'+str(start_row)).value = spec_tab.range('B3:H3').expand('down').value\n",
    "        ## add MCTAG key\n",
    "        output_spec.range('A'+str(start_row)+':A'+str(start_row+spec_row-1)).value = output_list.range('D'+str(list_index+2)).value\n",
    "        ## go to next spec\n",
    "        spec_input.close()\n",
    "        start_row = start_row + spec_row\n",
    "        list_index += 1\n",
    "        \n",
    "integrate_specs()"
   ]
  }
 ],
 "metadata": {
  "kernelspec": {
   "display_name": "Python 3",
   "language": "python",
   "name": "python3"
  },
  "language_info": {
   "codemirror_mode": {
    "name": "ipython",
    "version": 3
   },
   "file_extension": ".py",
   "mimetype": "text/x-python",
   "name": "python",
   "nbconvert_exporter": "python",
   "pygments_lexer": "ipython3",
   "version": "3.7.3"
  }
 },
 "nbformat": 4,
 "nbformat_minor": 2
}
