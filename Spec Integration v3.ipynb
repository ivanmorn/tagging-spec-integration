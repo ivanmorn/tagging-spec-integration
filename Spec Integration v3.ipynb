{
 "cells": [
  {
   "cell_type": "code",
   "execution_count": 2,
   "metadata": {},
   "outputs": [],
   "source": [
    "import xlwings as xw\n",
    "## number to letter dict\n",
    "import string\n",
    "from itertools import combinations_with_replacement as cwr\n",
    "one_n2a = dict(zip(range(1, 27), string.ascii_lowercase))\n",
    "two_n2a_list = [\"\".join(comb) for comb in cwr(string.ascii_lowercase, 2)]\n",
    "two_n2a = dict(zip(range(27, 53), two_n2a_list))\n",
    "n2a = {**one_n2a,**two_n2a}\n",
    "\n",
    "## initiate the integrated spec\n",
    "wb_0 = xw.Book('hk tagging specs.xlsx')\n",
    "list_0 = wb_0.sheets['list']\n",
    "spec_0 = wb_0.sheets['spec']\n",
    "\n",
    "def integrate_specs():\n",
    "    list_index = 1\n",
    "    max_index = list_0.range('A1').current_region.last_cell.row - 2\n",
    "    start_row = 3\n",
    "    ## define dl_n as dl number in spec_0\n",
    "    dl_n = len(spec_0.range('B2').expand('right').value)\n",
    "    ## clear existing values\n",
    "    spec_0.range('A3:AZ3').expand('down').clear()\n",
    "\n",
    "    while list_index < max_index + 1:\n",
    "        ## define datalayer index\n",
    "        d_index = 0\n",
    "        ## select input spec file\n",
    "        wb_1 = xw.Book(list_0.range('C'+str(list_index+2)).value + '.xlsx')\n",
    "        ## select input spec sheet\n",
    "        spec_1 = wb_1.sheets['spec']\n",
    "        ## count input row\n",
    "        row_1 = spec_1.range('A1').current_region.last_cell.row - 2\n",
    "        \n",
    "        ## copy value from spec_1 to spec_0\n",
    "        while d_index < dl_n:\n",
    "            ## define dl as first data layer in spec_0\n",
    "            dl = spec_0.range('B2:AZ2').value[d_index]\n",
    "            ## define c_index as the column index of dl in spec_1\n",
    "            c_index = spec_1.range('B2:AZ2').value.index(dl)\n",
    "            ## define dl_v as dl value in spec_1\n",
    "            dl_v = spec_1.range('B3:AZ3').expand('down').options(transpose=True).value[c_index]\n",
    "            ## cell position as cp, right column and starting cells in spec_0\n",
    "            cp = n2a[d_index+2]+str(start_row)\n",
    "            ## input dl_v into spec_0\n",
    "            spec_0.range(cp).options(transpose=True).value = dl_v\n",
    "            ## go to next column\n",
    "            d_index += 1\n",
    "        \n",
    "        ## add MCTAG key\n",
    "        spec_0.range('A'+str(start_row)+':A'+str(start_row+row_1-1)).value = list_0.range('D'+str(list_index+2)).value\n",
    "        ## go to next spec\n",
    "        wb_1.close()\n",
    "        start_row = start_row + row_1\n",
    "        list_index += 1\n",
    "        \n",
    "integrate_specs()"
   ]
  }
 ],
 "metadata": {
  "kernelspec": {
   "display_name": "Python 3",
   "language": "python",
   "name": "python3"
  },
  "language_info": {
   "codemirror_mode": {
    "name": "ipython",
    "version": 3
   },
   "file_extension": ".py",
   "mimetype": "text/x-python",
   "name": "python",
   "nbconvert_exporter": "python",
   "pygments_lexer": "ipython3",
   "version": "3.7.3"
  }
 },
 "nbformat": 4,
 "nbformat_minor": 2
}
