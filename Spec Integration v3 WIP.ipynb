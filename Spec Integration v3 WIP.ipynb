{
 "cells": [
  {
   "cell_type": "code",
   "execution_count": 2,
   "metadata": {},
   "outputs": [],
   "source": [
    "import xlwings as xw\n",
    "## number to letter dict\n",
    "import string\n",
    "from itertools import combinations_with_replacement as cwr\n",
    "one_n2a = dict(zip(range(1, 27), string.ascii_lowercase))\n",
    "two_n2a_list = [\"\".join(comb) for comb in cwr(string.ascii_lowercase, 2)]\n",
    "two_n2a = dict(zip(range(27, 53), two_n2a_list))\n",
    "n2a = {**one_n2a,**two_n2a}\n",
    "\n",
    "## initiate the integrated spec\n",
    "wb_0 = xw.Book('hk tagging specs.xlsx')\n",
    "list_0 = wb_0.sheets['list']\n",
    "spec_0 = wb_0.sheets['spec']\n",
    "\n",
    "def integrate_specs():\n",
    "    list_index = 1\n",
    "    max_index = list_0.range('A1').current_region.last_cell.row - 2\n",
    "    start_row = 3\n",
    "    ## clear existing values\n",
    "    spec_0.range('A3:H3').expand('down').clear()\n",
    "    while list_index < max_index + 1:\n",
    "        ## select input spec file\n",
    "        wb_1 = xw.Book(list_0.range('C'+str(list_index+2)).value + '.xlsx')\n",
    "        ## select input spec sheet\n",
    "        spec_1 = wb_1.sheets['spec']\n",
    "        ## count input row\n",
    "        row_1 = spec_1.range('A1').current_region.last_cell.row - 2\n",
    "        ## copy and paste value from input to output\n",
    "        spec_0.range('B'+str(start_row)).value = spec_1.range('B3:H3').expand('down').value\n",
    "        ## add MCTAG key\n",
    "        spec_0.range('A'+str(start_row)+':A'+str(start_row+row_1-1)).value = list_0.range('D'+str(list_index+2)).value\n",
    "        ## go to next spec\n",
    "        wb_1.close()\n",
    "        start_row = start_row + row_1\n",
    "        list_index += 1\n",
    "        \n",
    "integrate_specs()"
   ]
  },
  {
   "cell_type": "code",
   "execution_count": 24,
   "metadata": {},
   "outputs": [],
   "source": [
    "list_index = 1\n",
    "wb_1 = xw.Book(list_0.range('C'+str(list_index+2)).value + '.xlsx')\n",
    "spec_1 = wb_1.sheets['spec']"
   ]
  },
  {
   "cell_type": "code",
   "execution_count": 31,
   "metadata": {},
   "outputs": [
    {
     "name": "stdout",
     "output_type": "stream",
     "text": [
      "tealium_event\n"
     ]
    }
   ],
   "source": [
    "## define datalayer index\n",
    "d_index = 0\n",
    "## define dl as first data layer in spec_0\n",
    "dl = spec_0.range('B2:AZ2').value[d_index]\n",
    "print(dl)"
   ]
  },
  {
   "cell_type": "code",
   "execution_count": 32,
   "metadata": {},
   "outputs": [
    {
     "name": "stdout",
     "output_type": "stream",
     "text": [
      "0\n"
     ]
    }
   ],
   "source": [
    "## define c_index as the column index of dl in spec_1\n",
    "c_index = spec_1.range('B2:AZ2').value.index(dl)\n",
    "print(c_index)"
   ]
  },
  {
   "cell_type": "code",
   "execution_count": 36,
   "metadata": {},
   "outputs": [
    {
     "data": {
      "text/plain": [
       "['view',\n",
       " 'link',\n",
       " 'link',\n",
       " 'link',\n",
       " 'view',\n",
       " 'link',\n",
       " 'view',\n",
       " 'link',\n",
       " 'link',\n",
       " 'view',\n",
       " 'link',\n",
       " 'view',\n",
       " 'link',\n",
       " 'view',\n",
       " 'link',\n",
       " 'link',\n",
       " 'view']"
      ]
     },
     "execution_count": 36,
     "metadata": {},
     "output_type": "execute_result"
    }
   ],
   "source": [
    "## capture value of the dl in spec_1\n",
    "spec_1.range('B3:AZ3').expand('down').options(transpose=True).value[c_index]"
   ]
  },
  {
   "cell_type": "code",
   "execution_count": 48,
   "metadata": {},
   "outputs": [
    {
     "name": "stdout",
     "output_type": "stream",
     "text": [
      "7\n"
     ]
    }
   ],
   "source": [
    "## define dl_n as dl number in spec_0\n",
    "dl_n = len(spec_0.range('B2').expand('right').value)\n",
    "print(dl_n)"
   ]
  },
  {
   "cell_type": "code",
   "execution_count": null,
   "metadata": {},
   "outputs": [],
   "source": [
    "## select next data layer in spec_0\n",
    "d_index += 1"
   ]
  },
  {
   "cell_type": "code",
   "execution_count": null,
   "metadata": {},
   "outputs": [],
   "source": [
    "## end when data layer is none, move on to next spec"
   ]
  },
  {
   "cell_type": "code",
   "execution_count": 11,
   "metadata": {},
   "outputs": [
    {
     "data": {
      "text/plain": [
       "5"
      ]
     },
     "execution_count": 11,
     "metadata": {},
     "output_type": "execute_result"
    }
   ],
   "source": [
    "## get column index\n",
    "spec_0.range('B2:H2').value.index('product_id')"
   ]
  },
  {
   "cell_type": "code",
   "execution_count": 21,
   "metadata": {},
   "outputs": [
    {
     "data": {
      "text/plain": [
       "['visa-gold',\n",
       " 'visa-gold',\n",
       " 'visa-gold',\n",
       " 'visa-gold',\n",
       " 'visa-gold',\n",
       " 'visa-gold',\n",
       " 'visa-gold',\n",
       " 'visa-gold',\n",
       " 'visa-gold',\n",
       " 'visa-gold',\n",
       " 'visa-gold',\n",
       " 'visa-gold',\n",
       " 'visa-gold']"
      ]
     },
     "execution_count": 21,
     "metadata": {},
     "output_type": "execute_result"
    }
   ],
   "source": [
    "\n",
    "spec_0.range('B3:H15').options(transpose=True).value[spec_0.range('B2:H2').value.index('product_id')]"
   ]
  },
  {
   "cell_type": "code",
   "execution_count": null,
   "metadata": {},
   "outputs": [],
   "source": [
    "## define datalayer index\n",
    "d_index = 0\n",
    "\n",
    "## define dl_n as dl number in spec_0\n",
    "dl_n = len(spec_0.range('B2').expand('right').value)\n",
    "\n",
    "while d_index < dl_n:\n",
    "\n",
    "    ## define dl as first data layer in spec_0\n",
    "    dl = spec_0.range('B2:AZ2').value[d_index]\n",
    "\n",
    "    ## define c_index as the column index of dl in spec_1\n",
    "    c_index = spec_1.range('B2:AZ2').value.index(dl)\n",
    "\n",
    "    ## define dl_v as dl value in spec_1\n",
    "    dl_v = spec_1.range('B3:AZ3').expand('down').options(transpose=True).value[c_index]\n",
    "\n",
    "    ## cell position as cp, right column and starting cells in spec_0\n",
    "    cp = n2a[d_index+3]+str(start_row)\n",
    "        \n",
    "    ## input dl_v into spec_0\n",
    "    spec_0.range(cp).value = dl_v\n",
    "\n",
    "    ## select next data layer in spec_0\n",
    "    d_index += 1"
   ]
  },
  {
   "cell_type": "code",
   "execution_count": 104,
   "metadata": {},
   "outputs": [
    {
     "data": {
      "text/plain": [
       "'b'"
      ]
     },
     "execution_count": 104,
     "metadata": {},
     "output_type": "execute_result"
    }
   ],
   "source": [
    "import string\n",
    "from itertools import combinations_with_replacement as cwr\n",
    "one_n2a = dict(zip(range(2, 28), string.ascii_lowercase))\n",
    "two_n2a_list = [\"\".join(comb) for comb in cwr(string.ascii_lowercase, 2)]\n",
    "two_n2a = dict(zip(range(28, 54), two_n2a_list))\n",
    "n2a = {**one_n2a,**two_n2a}"
   ]
  },
  {
   "cell_type": "code",
   "execution_count": 105,
   "metadata": {},
   "outputs": [
    {
     "data": {
      "text/plain": [
       "'view'"
      ]
     },
     "execution_count": 105,
     "metadata": {},
     "output_type": "execute_result"
    }
   ],
   "source": [
    "start_row = 3\n",
    "spec_0.range(n2a[d_index+3]+str(start_row)).value"
   ]
  },
  {
   "cell_type": "code",
   "execution_count": 108,
   "metadata": {},
   "outputs": [
    {
     "name": "stdout",
     "output_type": "stream",
     "text": [
      "b3\n"
     ]
    }
   ],
   "source": [
    "cp = n2a[d_index+3]+str(start_row)\n",
    "print(cp)"
   ]
  },
  {
   "cell_type": "code",
   "execution_count": 125,
   "metadata": {},
   "outputs": [
    {
     "name": "stdout",
     "output_type": "stream",
     "text": [
      "view\n"
     ]
    }
   ],
   "source": [
    "dl_v = spec_1.range('B3:AZ3').expand('down').options(transpose=True).value[c_index]\n",
    "\n",
    "dl_v\n",
    "\n",
    "spec_0.range('B3').value = dl_v\n",
    "spec_0.range('B3').value = spec_1.range('B3:AZ3').expand('down').options(transpose=True).value[c_index]\n"
   ]
  },
  {
   "cell_type": "code",
   "execution_count": 5,
   "metadata": {},
   "outputs": [],
   "source": [
    "import xlwings as xw\n",
    "## number to letter dict\n",
    "import string\n",
    "from itertools import combinations_with_replacement as cwr\n",
    "one_n2a = dict(zip(range(1, 27), string.ascii_lowercase))\n",
    "two_n2a_list = [\"\".join(comb) for comb in cwr(string.ascii_lowercase, 2)]\n",
    "two_n2a = dict(zip(range(27, 53), two_n2a_list))\n",
    "n2a = {**one_n2a,**two_n2a}\n",
    "\n",
    "## initiate the integrated spec\n",
    "wb_0 = xw.Book('hk tagging specs.xlsx')\n",
    "list_0 = wb_0.sheets['list']\n",
    "spec_0 = wb_0.sheets['spec']\n",
    "\n",
    "def integrate_specs():\n",
    "    list_index = 1\n",
    "    max_index = list_0.range('A1').current_region.last_cell.row - 2\n",
    "    start_row = 3\n",
    "    ## define dl_n as dl number in spec_0\n",
    "    dl_n = len(spec_0.range('B2').expand('right').value)\n",
    "    ## clear existing values\n",
    "    spec_0.range('A3:AZ3').expand('down').clear()\n",
    "\n",
    "    while list_index < max_index + 1:\n",
    "        ## define datalayer index\n",
    "        d_index = 0\n",
    "        ## select input spec file\n",
    "        wb_1 = xw.Book(list_0.range('C'+str(list_index+2)).value + '.xlsx')\n",
    "        ## select input spec sheet\n",
    "        spec_1 = wb_1.sheets['spec']\n",
    "        ## count input row\n",
    "        row_1 = spec_1.range('A1').current_region.last_cell.row - 2\n",
    "        \n",
    "        ## copy value from spec_1 to spec_0\n",
    "        while d_index < dl_n:\n",
    "            ## define dl as first data layer in spec_0\n",
    "            dl = spec_0.range('B2:AZ2').value[d_index]\n",
    "            ## define c_index as the column index of dl in spec_1\n",
    "            c_index = spec_1.range('B2:AZ2').value.index(dl)\n",
    "            ## define dl_v as dl value in spec_1\n",
    "            dl_v = spec_1.range('B3:AZ3').expand('down').options(transpose=True).value[c_index]\n",
    "            ## cell position as cp, right column and starting cells in spec_0\n",
    "            cp = n2a[d_index+2]+str(start_row)\n",
    "            ## input dl_v into spec_0\n",
    "            spec_0.range(cp).options(transpose=True).value = dl_v\n",
    "            ## go to next column\n",
    "            d_index += 1\n",
    "        \n",
    "        ## add MCTAG key\n",
    "        spec_0.range('A'+str(start_row)+':A'+str(start_row+row_1-1)).value = list_0.range('D'+str(list_index+2)).value\n",
    "        ## go to next spec\n",
    "        wb_1.close()\n",
    "        start_row = start_row + row_1\n",
    "        list_index += 1\n",
    "        \n",
    "integrate_specs()"
   ]
  },
  {
   "cell_type": "code",
   "execution_count": null,
   "metadata": {},
   "outputs": [],
   "source": []
  }
 ],
 "metadata": {
  "kernelspec": {
   "display_name": "Python 3",
   "language": "python",
   "name": "python3"
  },
  "language_info": {
   "codemirror_mode": {
    "name": "ipython",
    "version": 3
   },
   "file_extension": ".py",
   "mimetype": "text/x-python",
   "name": "python",
   "nbconvert_exporter": "python",
   "pygments_lexer": "ipython3",
   "version": "3.7.3"
  }
 },
 "nbformat": 4,
 "nbformat_minor": 2
}
