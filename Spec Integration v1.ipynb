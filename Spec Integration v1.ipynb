{
 "cells": [
  {
   "cell_type": "code",
   "execution_count": null,
   "metadata": {},
   "outputs": [],
   "source": [
    "import xlwings as xw\n",
    "\n",
    "wb_0 = xw.Book('HK Tagging Specs.xlsx')\n",
    "spec_list = wb_0.sheets['list']\n",
    "\n",
    "list_index = 1\n",
    "wb_1 = xw.Book(spec_list.range('C'+str(list_index+2)).value + '.xlsx')\n",
    "list_index = list_index + 1\n",
    "wb_2 = xw.Book(spec_list.range('C'+str(list_index+2)).value + '.xlsx')\n",
    "list_index = list_index + 1\n",
    "wb_3 = xw.Book(spec_list.range('C'+str(list_index+2)).value + '.xlsx')\n",
    "\n",
    "spec_0 = wb_0.sheets['spec']\n",
    "spec_1 = wb_1.sheets['spec']\n",
    "spec_2 = wb_2.sheets['spec']\n",
    "spec_3 = wb_3.sheets['spec']\n",
    "\n",
    "spec_1_row = spec_1.range('A1').current_region.last_cell.row - 2\n",
    "spec_2_row = spec_2.range('A1').current_region.last_cell.row - 2\n",
    "spec_3_row = spec_3.range('A1').current_region.last_cell.row - 2\n",
    "\n",
    "spec_0.range('A3:G3').expand('down').clear()\n",
    "\n",
    "start_row = 3\n",
    "\n",
    "spec_0.range('B'+str(start_row)).value = spec_1.range('B3:G3').expand('down').value\n",
    "spec_0.range('A'+str(start_row)+':A'+str(start_row+spec_1_row-1)).value = spec_1.range('A3').value\n",
    "start_row = start_row + spec_1_row\n",
    "\n",
    "spec_0.range('B'+str(start_row)).value = spec_2.range('B3:G3').expand('down').value\n",
    "spec_0.range('A'+str(start_row)+':A'+str(start_row+spec_2_row-1)).value = spec_2.range('A3').value\n",
    "start_row = start_row + spec_2_row\n",
    "\n",
    "spec_0.range('B'+str(start_row)).value = spec_3.range('B3:G3').expand('down').value\n",
    "spec_0.range('A'+str(start_row)+':A'+str(start_row+spec_3_row-1)).value = spec_3.range('A3').value\n",
    "start_row = start_row + spec_3_row\n",
    "\n",
    "wb_0.save()\n",
    "wb_1.save()\n",
    "#wb_1.close()\n",
    "wb_2.save()\n",
    "#wb_2.close()\n",
    "wb_3.save()\n",
    "#wb_3.close()"
   ]
  }
 ],
 "metadata": {
  "kernelspec": {
   "display_name": "Python 3",
   "language": "python",
   "name": "python3"
  },
  "language_info": {
   "codemirror_mode": {
    "name": "ipython",
    "version": 3
   },
   "file_extension": ".py",
   "mimetype": "text/x-python",
   "name": "python",
   "nbconvert_exporter": "python",
   "pygments_lexer": "ipython3",
   "version": "3.7.3"
  }
 },
 "nbformat": 4,
 "nbformat_minor": 2
}
